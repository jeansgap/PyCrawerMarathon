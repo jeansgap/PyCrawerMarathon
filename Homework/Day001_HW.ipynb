{
 "cells": [
  {
   "cell_type": "code",
   "execution_count": null,
   "metadata": {},
   "outputs": [],
   "source": [
    "（簡答題）檔案、API、爬蟲三種取得資料方式有什麼不同？\n",
    "\n",
    "檔案：資料存成檔案提供下載，可以是各種常用的標準格式，例如CSV、JSON、XML..等等。\n",
    "開放接口(API)：提供程式化的連接接口，讓分析師或工程師讀取資料的特定部分，不需把完整的資料抓取下來。\n",
    "爬蟲：資料沒有以檔案或API提供，但出現在網頁上。可以利用爬蟲程式，將網頁的資料解析所需的部分。\n",
    "\n",
    "檔案、API是由資料擁有者主動釋出，爬蟲則是資料擁有者被動公開。"
   ]
  },
  {
   "cell_type": "code",
   "execution_count": 77,
   "metadata": {
    "scrolled": true
   },
   "outputs": [],
   "source": [
    "#根據需求引入正確的Library\n",
    "from urllib.request import urlretrieve\n",
    "import os\n",
    "\n",
    "#下載檔案到Data資料夾，存成檔名Homework.txt\n",
    "try:\n",
    "    os.makedirs('./Data', exist_ok=True )\n",
    "    urlretrieve('https://www.w3.org/TR/PNG/iso_8859-1.txt' , '/Data/Homework.txt')\n",
    "except:\n",
    "    print('發生錯誤！')"
   ]
  },
  {
   "cell_type": "code",
   "execution_count": 74,
   "metadata": {},
   "outputs": [
    {
     "name": "stdout",
     "output_type": "stream",
     "text": [
      "Homework.txt\n",
      "[o]檢查Data資料夾是否有Homework.txt檔名之檔案\n"
     ]
    }
   ],
   "source": [
    "#檢查Data資料夾是否有Homework.txt檔名之檔案 (第一種結果)\n",
    "\n",
    "files = []\n",
    "\n",
    "import os, sys\n",
    "\n",
    "#打開文件(預設位置會是跟 .ipynb程式相同的目錄)\n",
    "dirs = os.listdir( './Data' )\n",
    "\n",
    "#顯示所有文件\n",
    "for files in dirs:\n",
    "    print(files)\n",
    "    \n",
    "if 'Homework.txt' in files:\n",
    "    print('[o]檢查Data資料夾是否有Homework.txt檔名之檔案')\n",
    "else:\n",
    "    print('[x]檢查Data資料夾是否有Homework.txt檔名之檔案')"
   ]
  },
  {
   "cell_type": "code",
   "execution_count": 76,
   "metadata": {},
   "outputs": [
    {
     "name": "stdout",
     "output_type": "stream",
     "text": [
      ".DS_Store\n",
      "Day001_HW.ipynb\n",
      ".ipynb_checkpoints\n",
      "Data\n",
      "[x]檢查Data資料夾是否有Homework.txt檔名之檔案\n"
     ]
    }
   ],
   "source": [
    "#檢查Data資料夾是否有Homework.txt檔名之檔案 (第二種結果)\n",
    "\n",
    "files = []\n",
    "\n",
    "import os, sys\n",
    "\n",
    "#打開文件(預設位置會是跟 .ipynb程式相同的目錄)\n",
    "dirs = os.listdir( './' )\n",
    "\n",
    "#顯示所有文件\n",
    "for files in dirs:\n",
    "    print(files)\n",
    "    \n",
    "if 'Homework.txt' in files:\n",
    "    print('[o]檢查Data資料夾是否有Homework.txt檔名之檔案')\n",
    "else:\n",
    "    print('[x]檢查Data資料夾是否有Homework.txt檔名之檔案')"
   ]
  },
  {
   "cell_type": "code",
   "execution_count": 78,
   "metadata": {},
   "outputs": [
    {
     "name": "stdout",
     "output_type": "stream",
     "text": [
      "11\n",
      "Hello World\n"
     ]
    }
   ],
   "source": [
    "#將「Hello World」字串覆寫到Homework.txt檔案\n",
    "\n",
    "f = ' '\n",
    "\n",
    "with open('./Data/Homework.txt', 'w') as fh:\n",
    "    f = fh.write('Hello World')\n",
    "    fh.close()\n",
    "    \n",
    "    print(f)\n",
    "    \n",
    "try:\n",
    "    with open('./Data/Homework.txt','r') as fh:\n",
    "        f = fh.read()\n",
    "        print(f)\n",
    "        \n",
    "except EnvironmentError: # parent of IOError , OSError *and* WindowsError where avalible\n",
    "    pass"
   ]
  },
  {
   "cell_type": "code",
   "execution_count": 79,
   "metadata": {},
   "outputs": [
    {
     "name": "stdout",
     "output_type": "stream",
     "text": [
      "[o]檢查Homework.txt檔案字數是否符合Hello World字數\n"
     ]
    }
   ],
   "source": [
    "#檢查Homework.txt檔案字數是否符合Hello World字數\n",
    "\n",
    "if len('Hello World') == len(f):\n",
    "    print('[o]檢查Homework.txt檔案字數是否符合Hello World字數')\n",
    "else:\n",
    "    print('[x]檢查Homework.txt檔案字數是否符合Hello World字數')"
   ]
  },
  {
   "cell_type": "code",
   "execution_count": null,
   "metadata": {},
   "outputs": [],
   "source": []
  }
 ],
 "metadata": {
  "kernelspec": {
   "display_name": "Python 3",
   "language": "python",
   "name": "python3"
  },
  "language_info": {
   "codemirror_mode": {
    "name": "ipython",
    "version": 3
   },
   "file_extension": ".py",
   "mimetype": "text/x-python",
   "name": "python",
   "nbconvert_exporter": "python",
   "pygments_lexer": "ipython3",
   "version": "3.7.4"
  }
 },
 "nbformat": 4,
 "nbformat_minor": 2
}
